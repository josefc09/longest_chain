{
  "nbformat": 4,
  "nbformat_minor": 0,
  "metadata": {
    "colab": {
      "provenance": []
    },
    "kernelspec": {
      "display_name": "Python 3",
      "name": "python3"
    }
  },
  "cells": [
    {
      "cell_type": "code",
      "metadata": {
        "colab": {
          "base_uri": "https://localhost:8080/"
        },
        "id": "jDAQ7-5DymrE",
        "outputId": "a0963887-345b-49e9-9350-cd1e4486c25f"
      },
      "source": [
        "def F_LCS(X, Y, m, n):\n",
        "\tmatrix = [[0 for k in range(n+1)] for l in range(m+1)]\n",
        "\tresult = 0\n",
        "\tfor i in range(m + 1):\n",
        "\t\tfor j in range(n + 1):\n",
        "\t\t\tif (i == 0 or j == 0):\n",
        "\t\t\t\tmatrix[i][j] = 0\n",
        "\t\t\telif (X[i-1] == Y[j-1]):\n",
        "\t\t\t\tmatrix[i][j] = matrix[i-1][j-1] + 1\n",
        "\t\t\t\tresult = max(result, matrix[i][j])\n",
        "\t\t\telse:\n",
        "\t\t\t\tmatrix[i][j] = 0\n",
        "\treturn result\n",
        "\n",
        "X = 'photograph'\n",
        "Y = 'termograph'\n",
        "\n",
        "m = len(X)\n",
        "n = len(Y)\n",
        "\n",
        "print('longest chain', F_LCS(X, Y, m, n))"
      ],
      "execution_count": null,
      "outputs": [
        {
          "output_type": "stream",
          "name": "stdout",
          "text": [
            "longest chain 6\n"
          ]
        }
      ]
    },
    {
      "cell_type": "code",
      "metadata": {
        "colab": {
          "base_uri": "https://localhost:8080/"
        },
        "id": "3iuBBDRa4E_d",
        "outputId": "bda643a5-4ea8-45df-9b4c-fff2dc5c2d5a"
      },
      "source": [
        "def F_LCS(i, j, count) :\n",
        "\tif (i == 0 or j == 0) :\n",
        "\t\treturn count\n",
        "\tif (X[i - 1] == Y[j - 1]) :\n",
        "\t\tcount = F_LCS(i - 1, j - 1, count + 1)\n",
        "\tcount = max(count, max(F_LCS( i, j - 1, 0),\n",
        "\t\t\t\t\t\tF_LCS( i - 1, j, 0)))\n",
        "\treturn count\n",
        "\n",
        "X = \"photograph\"\n",
        "Y = \"termograph\"\n",
        "n = len(X)\n",
        "m = len(Y)\n",
        "\n",
        "print(\"longest chain\",F_LCS(n, m, 0))\n"
      ],
      "execution_count": null,
      "outputs": [
        {
          "output_type": "stream",
          "name": "stdout",
          "text": [
            "longest chain 6\n"
          ]
        }
      ]
    }
  ]
}